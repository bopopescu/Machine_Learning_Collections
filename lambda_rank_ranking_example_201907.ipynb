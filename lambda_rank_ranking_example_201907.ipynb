{
 "cells": [
  {
   "cell_type": "markdown",
   "metadata": {},
   "source": [
    "# LightGBM Lambda Rank Example"
   ]
  },
  {
   "cell_type": "code",
   "execution_count": 1,
   "metadata": {},
   "outputs": [],
   "source": [
    "from sklearn.model_selection import RandomizedSearchCV\n",
    "import lightgbm as lgb\n",
    "import numpy as np\n",
    "import pandas as pd\n",
    "from sklearn.datasets import load_svmlight_file\n",
    "import seaborn as sns\n",
    "import matplotlib.pyplot as plt\n",
    "import matplotlib.patches as mpatches\n",
    "import numpy as np\n",
    "from scipy.stats import spearmanr\n",
    "import matplotlib.pyplot as plt\n",
    "%matplotlib inline  "
   ]
  },
  {
   "cell_type": "code",
   "execution_count": 2,
   "metadata": {},
   "outputs": [],
   "source": [
    "X_train, y_train = load_svmlight_file('./rank.train.txt')\n",
    "X_test, y_test = load_svmlight_file('./rank.test.txt')\n",
    "q_train = np.loadtxt('./rank.train.query.txt')\n",
    "q_test = np.loadtxt('./rank.test.query.txt')"
   ]
  },
  {
   "cell_type": "code",
   "execution_count": 3,
   "metadata": {},
   "outputs": [
    {
     "data": {
      "text/plain": [
       "(3005, (3005, 300), (3005,), (201,), (50,))"
      ]
     },
     "execution_count": 3,
     "metadata": {},
     "output_type": "execute_result"
    }
   ],
   "source": [
    "q_train = q_train.astype(np.int64)\n",
    "q_test = q_test.astype(np.int64)\n",
    "q_train.sum(), X_train.shape, y_train.shape, q_train.shape, q_test.shape"
   ]
  },
  {
   "cell_type": "code",
   "execution_count": 4,
   "metadata": {},
   "outputs": [
    {
     "data": {
      "text/plain": [
       "matrix([[0.  , 0.  , 0.  , 0.  , 0.  , 0.  , 0.  , 0.  , 0.  , 0.89],\n",
       "        [0.69, 0.  , 0.  , 0.  , 0.  , 0.  , 0.  , 0.  , 0.  , 0.  ],\n",
       "        [0.69, 0.  , 0.  , 0.  , 0.  , 0.  , 0.  , 0.  , 0.  , 0.  ]])"
      ]
     },
     "execution_count": 4,
     "metadata": {},
     "output_type": "execute_result"
    }
   ],
   "source": [
    "X_train.todense()[:3,:10]"
   ]
  },
  {
   "cell_type": "code",
   "execution_count": 5,
   "metadata": {},
   "outputs": [
    {
     "data": {
      "text/plain": [
       "array([0., 1., 2., 3., 4.])"
      ]
     },
     "execution_count": 5,
     "metadata": {},
     "output_type": "execute_result"
    }
   ],
   "source": [
    "np.unique(y_train)"
   ]
  },
  {
   "cell_type": "code",
   "execution_count": 6,
   "metadata": {},
   "outputs": [
    {
     "data": {
      "text/plain": [
       "array([ 1, 13,  5,  8, 19, 12, 18,  5, 14, 13,  8,  9, 16, 11, 21, 14, 21,\n",
       "        9, 14, 11, 20, 18, 13, 20, 22, 22, 13, 17, 10, 13, 12, 13, 13, 23,\n",
       "       18, 13, 20, 12, 22, 14, 13, 23, 13, 14, 14,  5, 13, 15, 14, 14, 16,\n",
       "       16, 15, 21, 22, 10, 22, 18, 25, 16, 12, 12, 15, 15, 25, 13,  9, 12,\n",
       "        8, 16, 25, 19, 24, 12, 16, 10, 16,  9, 17, 15,  7,  9, 15, 14, 16,\n",
       "       17,  8, 17, 12, 18, 23, 10, 12, 12,  4, 14, 12, 15, 27, 16, 20, 13,\n",
       "       19, 13, 17, 17, 16, 12, 15, 14, 14, 19, 12, 23, 18, 16,  9, 23, 11,\n",
       "       15,  8, 10, 10, 16, 11, 15, 22, 16, 17, 23, 16, 22, 17, 14, 12, 14,\n",
       "       20, 15, 17, 15, 15, 22,  9, 21,  9, 17, 16, 15, 13, 13, 15, 14, 18,\n",
       "       21, 14, 17, 15, 14, 16, 12, 17, 19, 16, 11, 18, 11, 13, 14,  9, 16,\n",
       "       15, 16, 25,  9, 13, 22, 16, 18, 20, 14, 11,  9, 16, 19, 19, 11, 11,\n",
       "       13, 14, 14, 13, 16,  6, 21, 16, 12, 16, 11, 24, 12, 10],\n",
       "      dtype=int64)"
      ]
     },
     "execution_count": 6,
     "metadata": {},
     "output_type": "execute_result"
    }
   ],
   "source": [
    "q_train"
   ]
  },
  {
   "cell_type": "code",
   "execution_count": 7,
   "metadata": {},
   "outputs": [
    {
     "name": "stdout",
     "output_type": "stream",
     "text": [
      "[1]\ttraining's ndcg@1: 0.544989\ttraining's ndcg@2: 0.586787\ttraining's ndcg@3: 0.611252\ttraining's ndcg@4: 0.624702\ttraining's ndcg@5: 0.633483\tvalid_0's ndcg@1: 0.530286\tvalid_0's ndcg@2: 0.578533\tvalid_0's ndcg@3: 0.588915\tvalid_0's ndcg@4: 0.62453\tvalid_0's ndcg@5: 0.638887\n",
      "[2]\ttraining's ndcg@1: 0.666667\ttraining's ndcg@2: 0.667847\ttraining's ndcg@3: 0.661564\ttraining's ndcg@4: 0.667116\ttraining's ndcg@5: 0.672629\tvalid_0's ndcg@1: 0.651429\tvalid_0's ndcg@2: 0.659135\tvalid_0's ndcg@3: 0.659231\tvalid_0's ndcg@4: 0.682992\tvalid_0's ndcg@5: 0.697037\n",
      "[3]\ttraining's ndcg@1: 0.696375\ttraining's ndcg@2: 0.696544\ttraining's ndcg@3: 0.680639\ttraining's ndcg@4: 0.682932\ttraining's ndcg@5: 0.688\tvalid_0's ndcg@1: 0.674095\tvalid_0's ndcg@2: 0.699994\tvalid_0's ndcg@3: 0.701018\tvalid_0's ndcg@4: 0.718146\tvalid_0's ndcg@5: 0.735156\n",
      "[4]\ttraining's ndcg@1: 0.702488\ttraining's ndcg@2: 0.704557\ttraining's ndcg@3: 0.690464\ttraining's ndcg@4: 0.695434\ttraining's ndcg@5: 0.702818\tvalid_0's ndcg@1: 0.664571\tvalid_0's ndcg@2: 0.703106\tvalid_0's ndcg@3: 0.701737\tvalid_0's ndcg@4: 0.724773\tvalid_0's ndcg@5: 0.750751\n",
      "[5]\ttraining's ndcg@1: 0.710779\ttraining's ndcg@2: 0.70959\ttraining's ndcg@3: 0.701027\ttraining's ndcg@4: 0.70341\ttraining's ndcg@5: 0.711933\tvalid_0's ndcg@1: 0.666476\tvalid_0's ndcg@2: 0.706487\tvalid_0's ndcg@3: 0.708346\tvalid_0's ndcg@4: 0.726856\tvalid_0's ndcg@5: 0.746947\n",
      "[6]\ttraining's ndcg@1: 0.719024\ttraining's ndcg@2: 0.726138\ttraining's ndcg@3: 0.717544\ttraining's ndcg@4: 0.715259\ttraining's ndcg@5: 0.722704\tvalid_0's ndcg@1: 0.671238\tvalid_0's ndcg@2: 0.687131\tvalid_0's ndcg@3: 0.709112\tvalid_0's ndcg@4: 0.72382\tvalid_0's ndcg@5: 0.734383\n",
      "[7]\ttraining's ndcg@1: 0.719498\ttraining's ndcg@2: 0.721654\ttraining's ndcg@3: 0.71495\ttraining's ndcg@4: 0.713437\ttraining's ndcg@5: 0.721236\tvalid_0's ndcg@1: 0.677905\tvalid_0's ndcg@2: 0.715256\tvalid_0's ndcg@3: 0.726184\tvalid_0's ndcg@4: 0.734429\tvalid_0's ndcg@5: 0.740661\n",
      "[8]\ttraining's ndcg@1: 0.744658\ttraining's ndcg@2: 0.726399\ttraining's ndcg@3: 0.715288\ttraining's ndcg@4: 0.713219\ttraining's ndcg@5: 0.722645\tvalid_0's ndcg@1: 0.677905\tvalid_0's ndcg@2: 0.691092\tvalid_0's ndcg@3: 0.70889\tvalid_0's ndcg@4: 0.719416\tvalid_0's ndcg@5: 0.733363\n",
      "[9]\ttraining's ndcg@1: 0.746979\ttraining's ndcg@2: 0.731209\ttraining's ndcg@3: 0.72723\ttraining's ndcg@4: 0.722565\ttraining's ndcg@5: 0.726956\tvalid_0's ndcg@1: 0.677905\tvalid_0's ndcg@2: 0.677682\tvalid_0's ndcg@3: 0.690447\tvalid_0's ndcg@4: 0.718871\tvalid_0's ndcg@5: 0.731586\n",
      "[10]\ttraining's ndcg@1: 0.752049\ttraining's ndcg@2: 0.73206\ttraining's ndcg@3: 0.729796\ttraining's ndcg@4: 0.723339\ttraining's ndcg@5: 0.727537\tvalid_0's ndcg@1: 0.697905\tvalid_0's ndcg@2: 0.67705\tvalid_0's ndcg@3: 0.692004\tvalid_0's ndcg@4: 0.711188\tvalid_0's ndcg@5: 0.731676\n"
     ]
    }
   ],
   "source": [
    "dtrain = lgb.Dataset(X_train, label=y_train)\n",
    "dtest = lgb.Dataset(X_test, label=y_test)\n",
    "dtrain.set_group(q_train)\n",
    "dtest.set_group(q_test)\n",
    "param = {'num_leaves': 3,  # 2^5-1, so it's like max_depth of 5\n",
    "         'objective': 'lambdarank',\n",
    "         \"boosting\": \"gbdt\",\n",
    "         'learning_rate': 0.3,\n",
    "         'seed': 31415,\n",
    "         'bagging_fraction': 0.85,\n",
    "         'feature_fraction': 1,\n",
    "         'lambda_l1': 0,\n",
    "         'lambda_l2': 1,\n",
    "         # 'multi_logloss,multi_error','binary_logloss','binary_error'\n",
    "         'metric': 'ndcg',\n",
    "         'bagging_freq': 1,\n",
    "         'min_data_in_leaf': 5,\n",
    "         # 'min_sum_hessian_in_leaf':10.0,\n",
    "         # 'cegb_penalty_split': 0.1\n",
    "         }\n",
    "model = lgb.train(param, dtrain, 10, valid_sets=[\n",
    "                          dtest, dtrain])\n"
   ]
  },
  {
   "cell_type": "code",
   "execution_count": 8,
   "metadata": {},
   "outputs": [],
   "source": [
    "p0, p1 = model.predict(X_train), model.predict(X_test)"
   ]
  },
  {
   "cell_type": "code",
   "execution_count": 9,
   "metadata": {},
   "outputs": [
    {
     "data": {
      "text/plain": [
       "1.0    1211\n",
       "2.0     858\n",
       "0.0     645\n",
       "3.0     222\n",
       "4.0      69\n",
       "dtype: int64"
      ]
     },
     "execution_count": 9,
     "metadata": {},
     "output_type": "execute_result"
    }
   ],
   "source": [
    "pd.Series(y_train).value_counts()"
   ]
  },
  {
   "cell_type": "code",
   "execution_count": 10,
   "metadata": {},
   "outputs": [
    {
     "data": {
      "text/plain": [
       "count    3005.000000\n",
       "mean       -0.040126\n",
       "std         0.171954\n",
       "min        -0.321698\n",
       "25%        -0.152220\n",
       "50%        -0.062299\n",
       "75%         0.016827\n",
       "max         0.618650\n",
       "dtype: float64"
      ]
     },
     "execution_count": 10,
     "metadata": {},
     "output_type": "execute_result"
    }
   ],
   "source": [
    "pd.Series(p0).describe()"
   ]
  },
  {
   "cell_type": "code",
   "execution_count": 11,
   "metadata": {},
   "outputs": [
    {
     "data": {
      "text/plain": [
       "(SpearmanrResult(correlation=0.4727368212568763, pvalue=3.565480388130427e-167),\n",
       " SpearmanrResult(correlation=0.4419897115609285, pvalue=4.5545549314555176e-38))"
      ]
     },
     "execution_count": 11,
     "metadata": {},
     "output_type": "execute_result"
    }
   ],
   "source": [
    "spearmanr(y_train, p0), spearmanr(y_test, p1)"
   ]
  },
  {
   "cell_type": "code",
   "execution_count": 12,
   "metadata": {
    "scrolled": true
   },
   "outputs": [
    {
     "data": {
      "text/plain": [
       "<matplotlib.collections.PathCollection at 0xd06a358>"
      ]
     },
     "execution_count": 12,
     "metadata": {},
     "output_type": "execute_result"
    },
    {
     "data": {
      "image/png": "[encoded data removed]",
      "text/plain": [
       "<Figure size 432x288 with 1 Axes>"
      ]
     },
     "metadata": {
      "needs_background": "light"
     },
     "output_type": "display_data"
    }
   ],
   "source": [
    "d_= pd.DataFrame({\"actual\":y_train, \"pred\":p0})\n",
    "plt.scatter(d_.pred, d_.actual, marker='^')"
   ]
  },
  {
   "cell_type": "code",
   "execution_count": 13,
   "metadata": {},
   "outputs": [
    {
     "data": {
      "image/png": "[encoded data removed]",
      "text/plain": [
       "<Figure size 432x288 with 1 Axes>"
      ]
     },
     "metadata": {
      "needs_background": "light"
     },
     "output_type": "display_data"
    }
   ],
   "source": [
    "pred = model.predict(X_train)\n",
    "d_= pd.DataFrame({\"actual\":y_train, \"pred\":pred})\n",
    "\n",
    "cmaps = ['Reds', 'Blues', 'Greens', 'Greys', 'viridis_r']\n",
    "label_patches = []\n",
    "for i, cmap in enumerate(cmaps):\n",
    "    label = 'Rank {}'.format(i)\n",
    "    sns.kdeplot(d_.query(\"actual == @i\").pred.values)\n",
    "    label_patch = mpatches.Patch(\n",
    "        color=sns.color_palette(cmaps[i])[2],\n",
    "        label=label)\n",
    "    label_patches.append(label_patch)\n",
    "plt.title('My plot')\n",
    "plt.legend(handles=label_patches, loc='upper left')\n",
    "plt.show()"
   ]
  },
  {
   "cell_type": "markdown",
   "metadata": {},
   "source": [
    "# XGBoost Lambda Rank Example"
   ]
  },
  {
   "cell_type": "code",
   "execution_count": 14,
   "metadata": {},
   "outputs": [],
   "source": [
    "#!/usr/bin/python\n",
    "import xgboost as xgb\n",
    "from xgboost import DMatrix\n",
    "from sklearn.datasets import load_svmlight_file\n",
    "\n",
    "#  This script demonstrate how to do ranking with xgboost.train\n",
    "x_train, y_train = load_svmlight_file(\"mq2008.train\")\n",
    "x_valid, y_valid = load_svmlight_file(\"mq2008.vali\")\n",
    "x_test, y_test = load_svmlight_file(\"mq2008.test\")\n",
    "\n",
    "group_train = []\n",
    "with open(\"mq2008.train.group\", \"r\") as f:\n",
    "    data = f.readlines()\n",
    "    for line in data:\n",
    "        group_train.append(int(line.split(\"\\n\")[0]))\n",
    "\n",
    "group_valid = []\n",
    "with open(\"mq2008.vali.group\", \"r\") as f:\n",
    "    data = f.readlines()\n",
    "    for line in data:\n",
    "        group_valid.append(int(line.split(\"\\n\")[0]))\n",
    "\n",
    "group_test = []\n",
    "with open(\"mq2008.test.group\", \"r\") as f:\n",
    "    data = f.readlines()\n",
    "    for line in data:\n",
    "        group_test.append(int(line.split(\"\\n\")[0]))"
   ]
  },
  {
   "cell_type": "code",
   "execution_count": 15,
   "metadata": {},
   "outputs": [
    {
     "data": {
      "text/plain": [
       "(9630, (9630, 46), (9630,), (471,))"
      ]
     },
     "execution_count": 15,
     "metadata": {},
     "output_type": "execute_result"
    }
   ],
   "source": [
    "np.array(group_train).sum(), x_train.shape, y_train.shape, np.array(group_train).shape"
   ]
  },
  {
   "cell_type": "code",
   "execution_count": 16,
   "metadata": {},
   "outputs": [
    {
     "data": {
      "text/plain": [
       "array([0., 1., 2.])"
      ]
     },
     "execution_count": 16,
     "metadata": {},
     "output_type": "execute_result"
    }
   ],
   "source": [
    "np.unique(y_train)"
   ]
  },
  {
   "cell_type": "code",
   "execution_count": 17,
   "metadata": {
    "scrolled": true
   },
   "outputs": [
    {
     "data": {
      "text/plain": [
       "matrix([[0.007477, 0.      , 1.      , 0.      , 0.00747 ],\n",
       "        [0.603738, 0.      , 1.      , 0.      , 0.603175],\n",
       "        [0.214953, 0.      , 0.      , 0.      , 0.213819],\n",
       "        [0.      , 0.      , 1.      , 0.      , 0.      ],\n",
       "        [1.      , 1.      , 0.      , 0.      , 1.      ]])"
      ]
     },
     "execution_count": 17,
     "metadata": {},
     "output_type": "execute_result"
    }
   ],
   "source": [
    "x_train.todense()[:5,:5]"
   ]
  },
  {
   "cell_type": "code",
   "execution_count": 18,
   "metadata": {},
   "outputs": [
    {
     "data": {
      "text/plain": [
       "[8, 8, 8, 8, 8, 16, 8, 118, 16, 8, 8, 8, 7, 8, 16, 8, 16, 8, 32, 8]"
      ]
     },
     "execution_count": 18,
     "metadata": {},
     "output_type": "execute_result"
    }
   ],
   "source": [
    "group_train[:20]"
   ]
  },
  {
   "cell_type": "code",
   "execution_count": 19,
   "metadata": {},
   "outputs": [
    {
     "name": "stdout",
     "output_type": "stream",
     "text": [
      "[0]\tvalidation-ndcg:0.797064\tvalidation-map:0.720349\ttrain-ndcg:0.817089\ttrain-map:0.745871\n",
      "[1]\tvalidation-ndcg:0.794886\tvalidation-map:0.722388\ttrain-ndcg:0.824353\ttrain-map:0.757491\n",
      "[2]\tvalidation-ndcg:0.794456\tvalidation-map:0.722302\ttrain-ndcg:0.826989\ttrain-map:0.760502\n",
      "[3]\tvalidation-ndcg:0.794325\tvalidation-map:0.721565\ttrain-ndcg:0.824726\ttrain-map:0.756849\n",
      "[4]\tvalidation-ndcg:0.794283\tvalidation-map:0.721497\ttrain-ndcg:0.824668\ttrain-map:0.757129\n",
      "[5]\tvalidation-ndcg:0.793943\tvalidation-map:0.720747\ttrain-ndcg:0.824382\ttrain-map:0.756158\n",
      "[6]\tvalidation-ndcg:0.794019\tvalidation-map:0.720234\ttrain-ndcg:0.827162\ttrain-map:0.758941\n",
      "[7]\tvalidation-ndcg:0.790628\tvalidation-map:0.715117\ttrain-ndcg:0.829193\ttrain-map:0.760798\n",
      "[8]\tvalidation-ndcg:0.789792\tvalidation-map:0.714002\ttrain-ndcg:0.828374\ttrain-map:0.759605\n",
      "[9]\tvalidation-ndcg:0.795784\tvalidation-map:0.719004\ttrain-ndcg:0.829304\ttrain-map:0.762215\n",
      "[10]\tvalidation-ndcg:0.795721\tvalidation-map:0.718245\ttrain-ndcg:0.831187\ttrain-map:0.765133\n",
      "[11]\tvalidation-ndcg:0.796651\tvalidation-map:0.719427\ttrain-ndcg:0.831762\ttrain-map:0.765153\n",
      "[12]\tvalidation-ndcg:0.798438\tvalidation-map:0.725713\ttrain-ndcg:0.835591\ttrain-map:0.769677\n",
      "[13]\tvalidation-ndcg:0.798642\tvalidation-map:0.726089\ttrain-ndcg:0.835783\ttrain-map:0.770837\n",
      "[14]\tvalidation-ndcg:0.800239\tvalidation-map:0.727023\ttrain-ndcg:0.837047\ttrain-map:0.7725\n",
      "[15]\tvalidation-ndcg:0.797238\tvalidation-map:0.726222\ttrain-ndcg:0.835336\ttrain-map:0.769611\n",
      "[16]\tvalidation-ndcg:0.798247\tvalidation-map:0.729542\ttrain-ndcg:0.836492\ttrain-map:0.771794\n",
      "[17]\tvalidation-ndcg:0.800303\tvalidation-map:0.730883\ttrain-ndcg:0.836333\ttrain-map:0.770884\n",
      "[18]\tvalidation-ndcg:0.798802\tvalidation-map:0.729268\ttrain-ndcg:0.837821\ttrain-map:0.773474\n",
      "[19]\tvalidation-ndcg:0.798574\tvalidation-map:0.729609\ttrain-ndcg:0.838696\ttrain-map:0.774455\n"
     ]
    }
   ],
   "source": [
    "train_dmatrix = DMatrix(x_train, y_train)\n",
    "valid_dmatrix = DMatrix(x_valid, y_valid)\n",
    "test_dmatrix = DMatrix(x_test)\n",
    "\n",
    "train_dmatrix.set_group(group_train)\n",
    "valid_dmatrix.set_group(group_valid)\n",
    "\n",
    "params = {'objective': 'rank:ndcg', 'eta': 0.1, 'gamma': 1.0,\n",
    "               'min_child_weight': 2, 'max_depth': 3,\n",
    "          'eval_metric':['ndcg', 'map']}\n",
    "xgb_model = xgb.train(params, train_dmatrix, num_boost_round=20,\n",
    "                           evals=[(valid_dmatrix, 'validation'), (train_dmatrix, 'train')])\n",
    "pred = xgb_model.predict(test_dmatrix)\n",
    "d_= pd.DataFrame({\"actual\":y_test, \"pred\":pred})"
   ]
  },
  {
   "cell_type": "code",
   "execution_count": 20,
   "metadata": {},
   "outputs": [
    {
     "data": {
      "text/plain": [
       "(count    2319.000000\n",
       " mean       -0.088351\n",
       " std         0.667834\n",
       " min        -0.764012\n",
       " 25%        -0.679615\n",
       " 50%        -0.308077\n",
       " 75%         0.336342\n",
       " max         1.547803\n",
       " Name: pred, dtype: float64, count    378.000000\n",
       " mean       0.517314\n",
       " std        0.620555\n",
       " min       -0.764012\n",
       " 25%        0.183438\n",
       " 50%        0.427956\n",
       " 75%        1.059256\n",
       " max        1.503074\n",
       " Name: pred, dtype: float64, count    177.000000\n",
       " mean       0.752783\n",
       " std        0.573248\n",
       " min       -0.764012\n",
       " 25%        0.302004\n",
       " 50%        0.921346\n",
       " 75%        1.243922\n",
       " max        1.499445\n",
       " Name: pred, dtype: float64)"
      ]
     },
     "execution_count": 20,
     "metadata": {},
     "output_type": "execute_result"
    }
   ],
   "source": [
    "d_.query(\"actual == 0\").pred.describe(), d_.query(\"actual == 1\").pred.describe(), d_.query(\"actual == 2\").pred.describe()"
   ]
  },
  {
   "cell_type": "code",
   "execution_count": 21,
   "metadata": {},
   "outputs": [
    {
     "data": {
      "text/plain": [
       "(SpearmanrResult(correlation=0.3594971276993028, pvalue=1.0709227340863423e-291),\n",
       " SpearmanrResult(correlation=0.371356592536086, pvalue=2.8369158887868454e-89))"
      ]
     },
     "execution_count": 21,
     "metadata": {},
     "output_type": "execute_result"
    }
   ],
   "source": [
    "spearmanr(y_train, xgb_model.predict(train_dmatrix)), spearmanr(y_valid, xgb_model.predict(valid_dmatrix))"
   ]
  },
  {
   "cell_type": "code",
   "execution_count": 22,
   "metadata": {
    "scrolled": true
   },
   "outputs": [
    {
     "data": {
      "image/png": "[encoded data removed]",
      "text/plain": [
       "<Figure size 432x288 with 1 Axes>"
      ]
     },
     "metadata": {
      "needs_background": "light"
     },
     "output_type": "display_data"
    }
   ],
   "source": [
    "pred = xgb_model.predict(train_dmatrix)\n",
    "d_= pd.DataFrame({\"actual\":y_train, \"pred\":pred})\n",
    "\n",
    "cmaps = ['Reds', 'Blues', 'Greens']\n",
    "label_patches = []\n",
    "for i, cmap in enumerate(cmaps):\n",
    "    label = 'Rank {}'.format(i)\n",
    "    sns.kdeplot(d_.query(\"actual == @i\").pred.values)\n",
    "    label_patch = mpatches.Patch(\n",
    "        color=sns.color_palette(cmaps[i])[2],\n",
    "        label=label)\n",
    "    label_patches.append(label_patch)\n",
    "plt.title('My plot')\n",
    "plt.legend(handles=label_patches, loc='upper left')\n",
    "plt.show()"
   ]
  },
  {
   "cell_type": "markdown",
   "metadata": {},
   "source": [
    "#### Compare XGBoost's version to LightGBM's"
   ]
  },
  {
   "cell_type": "code",
   "execution_count": 23,
   "metadata": {},
   "outputs": [
    {
     "name": "stdout",
     "output_type": "stream",
     "text": [
      "[1]\ttraining's ndcg@1: 0.622081\ttraining's ndcg@2: 0.634536\ttraining's ndcg@3: 0.662769\ttraining's ndcg@4: 0.685921\ttraining's ndcg@5: 0.704289\tvalid_0's ndcg@1: 0.577495\tvalid_0's ndcg@2: 0.617185\tvalid_0's ndcg@3: 0.646671\tvalid_0's ndcg@4: 0.669061\tvalid_0's ndcg@5: 0.698126\n",
      "[2]\ttraining's ndcg@1: 0.632696\ttraining's ndcg@2: 0.662462\ttraining's ndcg@3: 0.685411\ttraining's ndcg@4: 0.703767\ttraining's ndcg@5: 0.723007\tvalid_0's ndcg@1: 0.626327\tvalid_0's ndcg@2: 0.666307\tvalid_0's ndcg@3: 0.694999\tvalid_0's ndcg@4: 0.706281\tvalid_0's ndcg@5: 0.728409\n",
      "[3]\ttraining's ndcg@1: 0.649682\ttraining's ndcg@2: 0.669886\ttraining's ndcg@3: 0.693683\ttraining's ndcg@4: 0.714905\ttraining's ndcg@5: 0.731053\tvalid_0's ndcg@1: 0.660297\tvalid_0's ndcg@2: 0.68382\tvalid_0's ndcg@3: 0.712061\tvalid_0's ndcg@4: 0.718683\tvalid_0's ndcg@5: 0.745724\n",
      "[4]\ttraining's ndcg@1: 0.655343\ttraining's ndcg@2: 0.674572\ttraining's ndcg@3: 0.694554\ttraining's ndcg@4: 0.71672\ttraining's ndcg@5: 0.737582\tvalid_0's ndcg@1: 0.664544\tvalid_0's ndcg@2: 0.681979\tvalid_0's ndcg@3: 0.705824\tvalid_0's ndcg@4: 0.721902\tvalid_0's ndcg@5: 0.74246\n",
      "[5]\ttraining's ndcg@1: 0.655343\ttraining's ndcg@2: 0.675572\ttraining's ndcg@3: 0.695377\ttraining's ndcg@4: 0.71804\ttraining's ndcg@5: 0.740736\tvalid_0's ndcg@1: 0.666667\tvalid_0's ndcg@2: 0.690018\tvalid_0's ndcg@3: 0.705814\tvalid_0's ndcg@4: 0.722418\tvalid_0's ndcg@5: 0.745046\n",
      "[6]\ttraining's ndcg@1: 0.656759\ttraining's ndcg@2: 0.675811\ttraining's ndcg@3: 0.694611\ttraining's ndcg@4: 0.717739\ttraining's ndcg@5: 0.7379\tvalid_0's ndcg@1: 0.666667\tvalid_0's ndcg@2: 0.682626\tvalid_0's ndcg@3: 0.704713\tvalid_0's ndcg@4: 0.722146\tvalid_0's ndcg@5: 0.742668\n",
      "[7]\ttraining's ndcg@1: 0.664544\ttraining's ndcg@2: 0.678776\ttraining's ndcg@3: 0.698474\ttraining's ndcg@4: 0.721413\ttraining's ndcg@5: 0.739323\tvalid_0's ndcg@1: 0.670913\tvalid_0's ndcg@2: 0.694176\tvalid_0's ndcg@3: 0.703726\tvalid_0's ndcg@4: 0.722631\tvalid_0's ndcg@5: 0.741196\n",
      "[8]\ttraining's ndcg@1: 0.671621\ttraining's ndcg@2: 0.682704\ttraining's ndcg@3: 0.700971\ttraining's ndcg@4: 0.724487\ttraining's ndcg@5: 0.740125\tvalid_0's ndcg@1: 0.679406\tvalid_0's ndcg@2: 0.693722\tvalid_0's ndcg@3: 0.705424\tvalid_0's ndcg@4: 0.724381\tvalid_0's ndcg@5: 0.742313\n",
      "[9]\ttraining's ndcg@1: 0.688606\ttraining's ndcg@2: 0.692052\ttraining's ndcg@3: 0.709439\ttraining's ndcg@4: 0.727299\ttraining's ndcg@5: 0.745462\tvalid_0's ndcg@1: 0.664544\tvalid_0's ndcg@2: 0.679203\tvalid_0's ndcg@3: 0.69783\tvalid_0's ndcg@4: 0.719508\tvalid_0's ndcg@5: 0.739743\n",
      "[10]\ttraining's ndcg@1: 0.690021\ttraining's ndcg@2: 0.691133\ttraining's ndcg@3: 0.709319\ttraining's ndcg@4: 0.726643\ttraining's ndcg@5: 0.748154\tvalid_0's ndcg@1: 0.645435\tvalid_0's ndcg@2: 0.67791\tvalid_0's ndcg@3: 0.68972\tvalid_0's ndcg@4: 0.712429\tvalid_0's ndcg@5: 0.735118\n"
     ]
    }
   ],
   "source": [
    "dtrain = lgb.Dataset(x_train, label=y_train)\n",
    "dtest = lgb.Dataset(x_valid, label=y_valid)\n",
    "dtrain.set_group(group_train)\n",
    "dtest.set_group(group_valid)\n",
    "param = {'num_leaves': 3,  # 2^5-1, so it's like max_depth of 5\n",
    "         'objective': 'lambdarank',\n",
    "         \"boosting\": \"gbdt\",\n",
    "         'learning_rate': 0.3,\n",
    "         'seed': 31415,\n",
    "         'bagging_fraction': 0.85,\n",
    "         'feature_fraction': 1,\n",
    "         'lambda_l1': 0,\n",
    "         'lambda_l2': 1,\n",
    "         # 'multi_logloss,multi_error','binary_logloss','binary_error'\n",
    "         'metric': 'ndcg',\n",
    "         'bagging_freq': 1,\n",
    "         'min_data_in_leaf': 5,\n",
    "         # 'min_sum_hessian_in_leaf':10.0,\n",
    "         # 'cegb_penalty_split': 0.1\n",
    "         }\n",
    "model = lgb.train(param, dtrain, 10, valid_sets=[\n",
    "                          dtest, dtrain])\n"
   ]
  },
  {
   "cell_type": "code",
   "execution_count": 24,
   "metadata": {
    "scrolled": true
   },
   "outputs": [
    {
     "data": {
      "text/plain": [
       "(SpearmanrResult(correlation=0.35839874028426993, pvalue=8.384525608264391e-290),\n",
       " SpearmanrResult(correlation=0.38983258290404416, pvalue=5.896622785115345e-99))"
      ]
     },
     "execution_count": 24,
     "metadata": {},
     "output_type": "execute_result"
    }
   ],
   "source": [
    "spearmanr(y_train, model.predict(x_train)), spearmanr(y_valid, model.predict(x_valid))"
   ]
  }
 ],
 "metadata": {
  "kernelspec": {
   "display_name": "Python 3",
   "language": "python",
   "name": "python3"
  },
  "language_info": {
   "codemirror_mode": {
    "name": "ipython",
    "version": 3
   },
   "file_extension": ".py",
   "mimetype": "text/x-python",
   "name": "python",
   "nbconvert_exporter": "python",
   "pygments_lexer": "ipython3",
   "version": "3.6.8"
  }
 },
 "nbformat": 4,
 "nbformat_minor": 2
}
